{
 "cells": [
  {
   "cell_type": "markdown",
   "id": "5b4fbb8e-2b81-43cf-acc2-2c3819877bcf",
   "metadata": {},
   "source": [
    "# lets make a convolutional network "
   ]
  },
  {
   "cell_type": "code",
   "execution_count": 27,
   "id": "6e768339-2922-4d84-bb34-4045dfbdf06b",
   "metadata": {},
   "outputs": [],
   "source": [
    "# som helper functions\n",
    "def same_dim(x,dim):\n",
    "    assert len(x.shape)==dim, \\\n",
    "    ''' they are suppose to have the same\n",
    "    dimension but first one is {0} and the second\n",
    "    one is {1} '''.format(dim,len(x.shape))\n",
    "\n",
    "def assert_same_shape(x,x_grad):\n",
    "    assert x.shape == x_grad.shape ,\\\n",
    "    ''' they are suppose to have the same shape \n",
    "    but the first one is {0} and the second one \n",
    "    is {1}'''.format(tuple(x.shape),tuple(x_grad.shape))"
   ]
  },
  {
   "cell_type": "code",
   "execution_count": 14,
   "id": "5d85d18d-0800-4ffe-8053-23982d0c2d1d",
   "metadata": {},
   "outputs": [],
   "source": [
    "import numpy as np\n",
    "from __future__ import division"
   ]
  },
  {
   "cell_type": "code",
   "execution_count": 4,
   "id": "9d78b90d-168d-4664-9901-a9b7aea4807e",
   "metadata": {},
   "outputs": [],
   "source": [
    "a=[12,34,45,56,90]"
   ]
  },
  {
   "cell_type": "code",
   "execution_count": 5,
   "id": "4215cbd4-7925-44b7-8481-ba01c26f0f1c",
   "metadata": {},
   "outputs": [
    {
     "data": {
      "text/plain": [
       "[0, 12, 34, 45, 56, 90, 0]"
      ]
     },
     "execution_count": 5,
     "metadata": {},
     "output_type": "execute_result"
    }
   ],
   "source": [
    "new=[0]\n",
    "for i in a:\n",
    "    new.append(i)\n",
    "new.append(0)\n",
    "new"
   ]
  },
  {
   "cell_type": "code",
   "execution_count": 44,
   "id": "4871a427-6459-4ad5-adc4-7b3d94816dc7",
   "metadata": {},
   "outputs": [],
   "source": [
    "def _1d_pad(arr:np.ndarray,num:int):\n",
    "    temp=np.array([0])\n",
    "    rep=np.repeat(temp,num)\n",
    "    return np.concatenate([rep,arr,rep])"
   ]
  },
  {
   "cell_type": "code",
   "execution_count": 11,
   "id": "d1557599-ad5d-4881-9364-f9150ac5ec5f",
   "metadata": {
    "scrolled": true
   },
   "outputs": [
    {
     "data": {
      "text/plain": [
       "array([0, 1, 2, 3, 4, 5, 6, 7, 8, 9, 0])"
      ]
     },
     "execution_count": 11,
     "metadata": {},
     "output_type": "execute_result"
    }
   ],
   "source": [
    "te=np.array([1,2,3,4,5,6,7,8,9])\n",
    "_1d_pad(te,1)"
   ]
  },
  {
   "cell_type": "code",
   "execution_count": 45,
   "id": "b6b8c206-1404-4caa-aefc-b3ff599f053d",
   "metadata": {},
   "outputs": [],
   "source": [
    "def _1d_conv(inp:np.ndarray,param:np.ndarray):\n",
    "    '''going to convolove the input'''\n",
    "    # check is they are the same dimension\n",
    "    same_dim(inp,1)\n",
    "    same_dim(param,1)\n",
    "    \n",
    "    #pad the input\n",
    "    param_len=param.shape[0]\n",
    "    pading_el=param_len//2\n",
    "    input_padded=_1d_pad(inp,pading_el)\n",
    "\n",
    "    #lets convolve the input and make output\n",
    "    out=np.zeros(inp.shape[0])\n",
    "    for i in range(out.shape[0]):\n",
    "        for j in range(param_len):\n",
    "            out[i]+=param[j]*input_padded[i+j]\n",
    "            \n",
    "    assert_same_shape(inp,out)\n",
    "    return out"
   ]
  },
  {
   "cell_type": "code",
   "execution_count": 52,
   "id": "fe9dd71b-75ae-4302-8580-75610f4d9b48",
   "metadata": {},
   "outputs": [
    {
     "name": "stdout",
     "output_type": "stream",
     "text": [
      "[ 8. 14. 20. 26. 32. 38. 44. 50. 26.]\n",
      "9\n",
      "9\n"
     ]
    }
   ],
   "source": [
    "param=np.array([1,2,3])\n",
    "x=_1d_conv(te,param)\n",
    "print(x)\n",
    "print(len(x))\n",
    "print(len(te))"
   ]
  },
  {
   "cell_type": "code",
   "execution_count": 46,
   "id": "f81e0a25-369e-4cbb-bef0-594d45906785",
   "metadata": {},
   "outputs": [],
   "source": [
    "def sum_conv(inp:np.ndarray,param:np.ndarray):\n",
    "    out=_1d_conv(inp,param)\n",
    "    sum=np.sum(out)\n",
    "    return sum"
   ]
  },
  {
   "cell_type": "code",
   "execution_count": 47,
   "id": "401230c1-e7d3-4dcf-b1e2-81e1c19ff5bf",
   "metadata": {},
   "outputs": [
    {
     "data": {
      "text/plain": [
       "39.0"
      ]
     },
     "execution_count": 47,
     "metadata": {},
     "output_type": "execute_result"
    }
   ],
   "source": [
    "input_1d = np.array([1,2,3,4,5])\n",
    "param_1d = np.array([1,1,1])\n",
    "sum_conv(input_1d,param_1d)"
   ]
  },
  {
   "cell_type": "markdown",
   "id": "03003940-45b1-483e-9034-261649a6610d",
   "metadata": {},
   "source": [
    "# backpropagation"
   ]
  },
  {
   "cell_type": "code",
   "execution_count": 50,
   "id": "4b2dc33c-b453-4011-9be5-12b79bd44c8d",
   "metadata": {},
   "outputs": [
    {
     "data": {
      "text/plain": [
       "10.0"
      ]
     },
     "execution_count": 50,
     "metadata": {},
     "output_type": "execute_result"
    }
   ],
   "source": [
    "input_1d = np.array([1,2,3,4,5])\n",
    "param_1d_2 = np.array([2,1,1])\n",
    "sum_conv(input_1d,param_1d_2) - sum_conv(input_1d,param_1d)"
   ]
  },
  {
   "cell_type": "code",
   "execution_count": 57,
   "id": "e2fdb199-3926-426b-ad88-6a156ab68d48",
   "metadata": {},
   "outputs": [],
   "source": [
    "# calculating the input gradient\n",
    "def param_grad(inp:np.ndarray,\n",
    "               param:np.ndarray,\n",
    "              output_grad:np.ndarray=None):\n",
    "    ''' when calculating the param gradient pad the input'''\n",
    "    #lets pad our input\n",
    "    param_len=param.shape[0]\n",
    "    embed_num=param_len//2\n",
    "    input_pad=_1d_pad(inp,embed_num)\n",
    "    \n",
    "    if output_grad is None:\n",
    "        output_grad=np.ones_like(inp)\n",
    "    else:\n",
    "        assert_same_shape(inp,output_grad)\n",
    "        \n",
    "    param_grad=np.zeros_like(param)\n",
    "    \n",
    "    for i in range(inp.shape[0]):\n",
    "        for j in range(param.shape[0]):\n",
    "            param_grad[i]+=input_pad[i+j]*output_grad[i]\n",
    "\n",
    "    \n",
    "    assert_same_shape(param,param_grad)\n",
    "    return param_grad"
   ]
  },
  {
   "cell_type": "code",
   "execution_count": 56,
   "id": "4f6454f9-34c8-45b6-9860-bc4c25db3071",
   "metadata": {},
   "outputs": [],
   "source": [
    "def _input_grad_1d(inp:np.ndarray,\n",
    "                  param:np.ndarray,\n",
    "                  output_grad:np.ndarray=None):\n",
    "    \n",
    "    ''' when calculating the input gradient padd the output'''\n",
    "    \n",
    "    param_len=param.shape[0]\n",
    "    emb_num=param_len//2\n",
    "    output_pad=_1d_pad(output_grad,emb_num)\n",
    "    \n",
    "    if output_grad is None:\n",
    "        output_grad=np.ones_like(inp)\n",
    "    else:\n",
    "        assert_same_shape(output_grad,inp)\n",
    "\n",
    "    input_grad=np.zeros_like(output_grad)\n",
    "    \n",
    "    for i in range(inp.shape[0]):\n",
    "        for j in range(param.shape[0]):\n",
    "            input_grad+=output_pas[i+j]*param[j]\n",
    "            \n",
    "    assert_same_shape(input_grad,output_grad)\n",
    "    return input_grad"
   ]
  },
  {
   "cell_type": "markdown",
   "id": "62f54d53-3638-4a30-93aa-fc033671fd86",
   "metadata": {},
   "source": [
    "# example"
   ]
  },
  {
   "cell_type": "code",
   "execution_count": 60,
   "id": "895746b9-4f9b-44d3-8580-8526ba44622f",
   "metadata": {},
   "outputs": [
    {
     "ename": "ValueError",
     "evalue": "all the input arrays must have same number of dimensions, but the array at index 0 has 1 dimension(s) and the array at index 1 has 0 dimension(s)",
     "output_type": "error",
     "traceback": [
      "\u001b[1;31m---------------------------------------------------------------------------\u001b[0m",
      "\u001b[1;31mValueError\u001b[0m                                Traceback (most recent call last)",
      "Cell \u001b[1;32mIn[60], line 3\u001b[0m\n\u001b[0;32m      1\u001b[0m input_1d \u001b[38;5;241m=\u001b[39m np\u001b[38;5;241m.\u001b[39marray([\u001b[38;5;241m1\u001b[39m,\u001b[38;5;241m2\u001b[39m,\u001b[38;5;241m3\u001b[39m,\u001b[38;5;241m4\u001b[39m,\u001b[38;5;241m5\u001b[39m])\n\u001b[0;32m      2\u001b[0m param_1d_2 \u001b[38;5;241m=\u001b[39m np\u001b[38;5;241m.\u001b[39marray([\u001b[38;5;241m2\u001b[39m,\u001b[38;5;241m1\u001b[39m,\u001b[38;5;241m1\u001b[39m])\n\u001b[1;32m----> 3\u001b[0m \u001b[38;5;28mprint\u001b[39m(\u001b[38;5;124m\"\u001b[39m\u001b[38;5;124minput gradient is: \u001b[39m\u001b[38;5;124m\"\u001b[39m, \u001b[43m_input_grad_1d\u001b[49m\u001b[43m(\u001b[49m\u001b[43minput_1d\u001b[49m\u001b[43m,\u001b[49m\u001b[43mparam_1d\u001b[49m\u001b[43m)\u001b[49m)\n\u001b[0;32m      4\u001b[0m \u001b[38;5;28mprint\u001b[39m(\u001b[38;5;124m\"\u001b[39m\u001b[38;5;124mparameter gradient is \u001b[39m\u001b[38;5;124m\"\u001b[39m,param_grad(input_1d,param_1d))\n",
      "Cell \u001b[1;32mIn[56], line 9\u001b[0m, in \u001b[0;36m_input_grad_1d\u001b[1;34m(inp, param, output_grad)\u001b[0m\n\u001b[0;32m      7\u001b[0m param_len\u001b[38;5;241m=\u001b[39mparam\u001b[38;5;241m.\u001b[39mshape[\u001b[38;5;241m0\u001b[39m]\n\u001b[0;32m      8\u001b[0m emb_num\u001b[38;5;241m=\u001b[39mparam_len\u001b[38;5;241m/\u001b[39m\u001b[38;5;241m/\u001b[39m\u001b[38;5;241m2\u001b[39m\n\u001b[1;32m----> 9\u001b[0m output_pad\u001b[38;5;241m=\u001b[39m\u001b[43m_1d_pad\u001b[49m\u001b[43m(\u001b[49m\u001b[43moutput_grad\u001b[49m\u001b[43m,\u001b[49m\u001b[43memb_num\u001b[49m\u001b[43m)\u001b[49m\n\u001b[0;32m     11\u001b[0m \u001b[38;5;28;01mif\u001b[39;00m output_grad \u001b[38;5;129;01mis\u001b[39;00m \u001b[38;5;28;01mNone\u001b[39;00m:\n\u001b[0;32m     12\u001b[0m     output_grad\u001b[38;5;241m=\u001b[39mnp\u001b[38;5;241m.\u001b[39mones_like(inp)\n",
      "Cell \u001b[1;32mIn[44], line 4\u001b[0m, in \u001b[0;36m_1d_pad\u001b[1;34m(arr, num)\u001b[0m\n\u001b[0;32m      2\u001b[0m temp\u001b[38;5;241m=\u001b[39mnp\u001b[38;5;241m.\u001b[39marray([\u001b[38;5;241m0\u001b[39m])\n\u001b[0;32m      3\u001b[0m rep\u001b[38;5;241m=\u001b[39mnp\u001b[38;5;241m.\u001b[39mrepeat(temp,num)\n\u001b[1;32m----> 4\u001b[0m \u001b[38;5;28;01mreturn\u001b[39;00m \u001b[43mnp\u001b[49m\u001b[38;5;241;43m.\u001b[39;49m\u001b[43mconcatenate\u001b[49m\u001b[43m(\u001b[49m\u001b[43m[\u001b[49m\u001b[43mrep\u001b[49m\u001b[43m,\u001b[49m\u001b[43marr\u001b[49m\u001b[43m,\u001b[49m\u001b[43mrep\u001b[49m\u001b[43m]\u001b[49m\u001b[43m)\u001b[49m\n",
      "File \u001b[1;32m<__array_function__ internals>:200\u001b[0m, in \u001b[0;36mconcatenate\u001b[1;34m(*args, **kwargs)\u001b[0m\n",
      "\u001b[1;31mValueError\u001b[0m: all the input arrays must have same number of dimensions, but the array at index 0 has 1 dimension(s) and the array at index 1 has 0 dimension(s)"
     ]
    }
   ],
   "source": [
    "input_1d = np.array([1,2,3,4,5])\n",
    "param_1d_2 = np.array([2,1,1])\n",
    "print(\"input gradient is: \", _input_grad_1d(input_1d,param_1d))\n",
    "print(\"parameter gradient is \",param_grad(input_1d,param_1d))"
   ]
  },
  {
   "cell_type": "code",
   "execution_count": null,
   "id": "ded0626d-7bc0-4822-bc05-5ac8daeb8e87",
   "metadata": {},
   "outputs": [],
   "source": []
  }
 ],
 "metadata": {
  "kernelspec": {
   "display_name": "Python 3 (ipykernel)",
   "language": "python",
   "name": "python3"
  },
  "language_info": {
   "codemirror_mode": {
    "name": "ipython",
    "version": 3
   },
   "file_extension": ".py",
   "mimetype": "text/x-python",
   "name": "python",
   "nbconvert_exporter": "python",
   "pygments_lexer": "ipython3",
   "version": "3.8.18"
  }
 },
 "nbformat": 4,
 "nbformat_minor": 5
}
