{
 "cells": [
  {
   "cell_type": "code",
   "execution_count": 1,
   "id": "127733df",
   "metadata": {
    "execution": {
     "iopub.execute_input": "2023-10-12T06:42:17.619668Z",
     "iopub.status.busy": "2023-10-12T06:42:17.619046Z",
     "iopub.status.idle": "2023-10-12T06:42:19.405018Z",
     "shell.execute_reply": "2023-10-12T06:42:19.403372Z"
    },
    "papermill": {
     "duration": 1.797445,
     "end_time": "2023-10-12T06:42:19.408039",
     "exception": false,
     "start_time": "2023-10-12T06:42:17.610594",
     "status": "completed"
    },
    "tags": []
   },
   "outputs": [],
   "source": [
    "import numpy as np\n",
    "import pandas as pd\n",
    "from sklearn.model_selection import train_test_split\n",
    "from typing import Dict,Tuple"
   ]
  },
  {
   "cell_type": "code",
   "execution_count": 2,
   "id": "3218d8c7",
   "metadata": {
    "_cell_guid": "b1076dfc-b9ad-4769-8c92-a6c4dae69d19",
    "_uuid": "8f2839f25d086af736a60e9eeb907d3b93b6e0e5",
    "execution": {
     "iopub.execute_input": "2023-10-12T06:42:19.420885Z",
     "iopub.status.busy": "2023-10-12T06:42:19.420261Z",
     "iopub.status.idle": "2023-10-12T06:42:19.428294Z",
     "shell.execute_reply": "2023-10-12T06:42:19.427037Z"
    },
    "papermill": {
     "duration": 0.017539,
     "end_time": "2023-10-12T06:42:19.430609",
     "exception": false,
     "start_time": "2023-10-12T06:42:19.413070",
     "status": "completed"
    },
    "tags": []
   },
   "outputs": [],
   "source": [
    "# lets make the back propagation\n",
    "def loss_gradients(forward_info:Dict[str,np.ndarray],\n",
    "                  weight:Dict[str,np.ndarray])->Dict[str,np.ndarray]:\n",
    "    dldp=-2*(forward_info[\"y\"]-forward_info[\"p\"])\n",
    "    dpdn=np.ones_like(forward_info[\"n\"])\n",
    "    dpdb=np.ones_like(weight[\"b\"])\n",
    "    dndw=np.transpose(forward_info[\"x\"],(1,0))\n",
    "    dldn=dldp*dpdn\n",
    "    \n",
    "    dldw=np.dot(dndw,dldn)  # this is the gradient of the weight\n",
    "    dldb=(dldp*dpdb).sum(axis=0) # this is the gradient of the bias\n",
    "\n",
    "    loss_gradient:Dict[str,np.ndarray]={}  #initializing a dictonar\n",
    "    loss_gradient[\"w\"]=dldw\n",
    "    loss_gradient[\"b\"]=dldb\n",
    "    return loss_gradient\n",
    "    "
   ]
  },
  {
   "cell_type": "code",
   "execution_count": 3,
   "id": "5eb96047",
   "metadata": {
    "execution": {
     "iopub.execute_input": "2023-10-12T06:42:19.441697Z",
     "iopub.status.busy": "2023-10-12T06:42:19.441135Z",
     "iopub.status.idle": "2023-10-12T06:42:19.446907Z",
     "shell.execute_reply": "2023-10-12T06:42:19.446061Z"
    },
    "papermill": {
     "duration": 0.014042,
     "end_time": "2023-10-12T06:42:19.449381",
     "exception": false,
     "start_time": "2023-10-12T06:42:19.435339",
     "status": "completed"
    },
    "tags": []
   },
   "outputs": [],
   "source": [
    "def init_weight(n_cols:int)->Dict[str,np.ndarray]:\n",
    "    ''' this iniitalizes the weights of the linear model'''\n",
    "    weights:Dict[str,np.ndarray]={}\n",
    "    w=np.random.randn(n_cols,1)\n",
    "    b=np.random.randn(1,1)\n",
    "    weights['w']=w\n",
    "    weights['b']=b\n",
    "    return weights"
   ]
  },
  {
   "cell_type": "code",
   "execution_count": 4,
   "id": "d5e118d4",
   "metadata": {
    "execution": {
     "iopub.execute_input": "2023-10-12T06:42:19.460194Z",
     "iopub.status.busy": "2023-10-12T06:42:19.459804Z",
     "iopub.status.idle": "2023-10-12T06:42:19.465280Z",
     "shell.execute_reply": "2023-10-12T06:42:19.464215Z"
    },
    "papermill": {
     "duration": 0.013638,
     "end_time": "2023-10-12T06:42:19.467608",
     "exception": false,
     "start_time": "2023-10-12T06:42:19.453970",
     "status": "completed"
    },
    "tags": []
   },
   "outputs": [],
   "source": [
    "def permute_data(x:np.ndarray,\n",
    "                y:np.ndarray):\n",
    "    perm=np.random.permutation(x.shape[0])\n",
    "    return x[perm],y[perm]"
   ]
  },
  {
   "cell_type": "code",
   "execution_count": 5,
   "id": "34b049fb",
   "metadata": {
    "execution": {
     "iopub.execute_input": "2023-10-12T06:42:19.478448Z",
     "iopub.status.busy": "2023-10-12T06:42:19.478104Z",
     "iopub.status.idle": "2023-10-12T06:42:19.483686Z",
     "shell.execute_reply": "2023-10-12T06:42:19.482574Z"
    },
    "papermill": {
     "duration": 0.013531,
     "end_time": "2023-10-12T06:42:19.485783",
     "exception": false,
     "start_time": "2023-10-12T06:42:19.472252",
     "status": "completed"
    },
    "tags": []
   },
   "outputs": [],
   "source": [
    "batch=Tuple[np.ndarray,np.ndarray]\n",
    "def generate_batch(x:np.ndarray,\n",
    "                    y:np.ndarray,\n",
    "                    start:int=0,\n",
    "                    batch_sz:int=10\n",
    "                  )->batch:\n",
    "    if start+batch_sz > x.shape[0]:\n",
    "        batch_sz=x.shape[0]- start\n",
    "    x_batch,y_batch=x[start:start+batch_sz],y[start:start+batch_sz]\n",
    "    return x_batch,y_batch"
   ]
  },
  {
   "cell_type": "code",
   "execution_count": 6,
   "id": "d31c6469",
   "metadata": {
    "execution": {
     "iopub.execute_input": "2023-10-12T06:42:19.496394Z",
     "iopub.status.busy": "2023-10-12T06:42:19.496060Z",
     "iopub.status.idle": "2023-10-12T06:42:19.502275Z",
     "shell.execute_reply": "2023-10-12T06:42:19.501040Z"
    },
    "papermill": {
     "duration": 0.013894,
     "end_time": "2023-10-12T06:42:19.504168",
     "exception": false,
     "start_time": "2023-10-12T06:42:19.490274",
     "status": "completed"
    },
    "tags": []
   },
   "outputs": [],
   "source": [
    "def forward_loss(x:np.ndarray,\n",
    "                y:np.ndarray,\n",
    "                w:Dict[str,np.ndarray])->Tuple[Dict[str,np.ndarray],float]:\n",
    "    \n",
    "    n=np.dot(x,w['w'])\n",
    "    p=n+w['b'] # this is kinda the prediction of this model BTW\n",
    "    #y_reshaped=y.reshape(-1,1)\n",
    "    loss=np.power((y-p),2)\n",
    "    \n",
    "    forward_info:Dict[str,np.ndarray]={}\n",
    "    forward_info['x']=x\n",
    "    forward_info['n']=n\n",
    "    forward_info['p']=p\n",
    "    forward_info['y']=y\n",
    "    \n",
    "    return forward_info,loss"
   ]
  },
  {
   "cell_type": "code",
   "execution_count": 7,
   "id": "aceb19dc",
   "metadata": {
    "execution": {
     "iopub.execute_input": "2023-10-12T06:42:19.515827Z",
     "iopub.status.busy": "2023-10-12T06:42:19.515020Z",
     "iopub.status.idle": "2023-10-12T06:42:19.523209Z",
     "shell.execute_reply": "2023-10-12T06:42:19.522268Z"
    },
    "papermill": {
     "duration": 0.01646,
     "end_time": "2023-10-12T06:42:19.525252",
     "exception": false,
     "start_time": "2023-10-12T06:42:19.508792",
     "status": "completed"
    },
    "tags": []
   },
   "outputs": [],
   "source": [
    "def train(x:np.ndarray,\n",
    "         y:np.ndarray,\n",
    "         n_iter: int=10,\n",
    "         learning_rate:float=0.01,\n",
    "         batch_sz:int=32,\n",
    "         return_loss:bool=False,\n",
    "         return_weights:bool=False,\n",
    "         seed: int=1) ->None:\n",
    "    if seed:\n",
    "        np.random.seed(seed)\n",
    "    start=0  # the starting number that is going to be used in batching of data\n",
    "    \n",
    "    weight=init_weight(x.shape[1]) #initialize weight\n",
    "    x,y=permute_data(x,y) # shuffle\n",
    "    batch_sz=32\n",
    "\n",
    "    if return_loss:\n",
    "        losses=[]\n",
    "        \n",
    "    for i in range(n_iter):\n",
    "        if start>x.shape[0]:\n",
    "            start=0\n",
    "        x_batch,y_batch=generate_batch(x,y,start,batch_sz)\n",
    "        start+=batch_sz\n",
    "        # lets train the model\n",
    "        forward,loss=forward_loss(x,y,weight)\n",
    "        \n",
    "        if return_loss:\n",
    "            losses.append(loss)  # append the loss\n",
    "        # time for the backpropagation and the loss that has been calculated during the training\n",
    "        loss_grad=loss_gradients(forward,weight)\n",
    "        for key in weight.keys():\n",
    "            weight[key]-=learning_rate*loss_grad[key]\n",
    "    if return_weights:\n",
    "        return loss,weight\n",
    "    return None"
   ]
  },
  {
   "cell_type": "markdown",
   "id": "04da9718",
   "metadata": {
    "papermill": {
     "duration": 0.004214,
     "end_time": "2023-10-12T06:42:19.533974",
     "exception": false,
     "start_time": "2023-10-12T06:42:19.529760",
     "status": "completed"
    },
    "tags": []
   },
   "source": [
    "# lets preprocess our dataset"
   ]
  },
  {
   "cell_type": "code",
   "execution_count": 8,
   "id": "6dac9b5c",
   "metadata": {
    "execution": {
     "iopub.execute_input": "2023-10-12T06:42:19.544943Z",
     "iopub.status.busy": "2023-10-12T06:42:19.544023Z",
     "iopub.status.idle": "2023-10-12T06:42:21.126261Z",
     "shell.execute_reply": "2023-10-12T06:42:21.125072Z"
    },
    "papermill": {
     "duration": 1.590434,
     "end_time": "2023-10-12T06:42:21.128908",
     "exception": false,
     "start_time": "2023-10-12T06:42:19.538474",
     "status": "completed"
    },
    "tags": []
   },
   "outputs": [],
   "source": [
    "from sklearn.datasets import fetch_california_housing\n",
    "cali=fetch_california_housing()"
   ]
  },
  {
   "cell_type": "code",
   "execution_count": 9,
   "id": "f0fbbee9",
   "metadata": {
    "execution": {
     "iopub.execute_input": "2023-10-12T06:42:21.140388Z",
     "iopub.status.busy": "2023-10-12T06:42:21.139984Z",
     "iopub.status.idle": "2023-10-12T06:42:21.151854Z",
     "shell.execute_reply": "2023-10-12T06:42:21.150641Z"
    },
    "papermill": {
     "duration": 0.020291,
     "end_time": "2023-10-12T06:42:21.153940",
     "exception": false,
     "start_time": "2023-10-12T06:42:21.133649",
     "status": "completed"
    },
    "tags": []
   },
   "outputs": [
    {
     "data": {
      "text/plain": [
       "{'data': array([[   8.3252    ,   41.        ,    6.98412698, ...,    2.55555556,\n",
       "           37.88      , -122.23      ],\n",
       "        [   8.3014    ,   21.        ,    6.23813708, ...,    2.10984183,\n",
       "           37.86      , -122.22      ],\n",
       "        [   7.2574    ,   52.        ,    8.28813559, ...,    2.80225989,\n",
       "           37.85      , -122.24      ],\n",
       "        ...,\n",
       "        [   1.7       ,   17.        ,    5.20554273, ...,    2.3256351 ,\n",
       "           39.43      , -121.22      ],\n",
       "        [   1.8672    ,   18.        ,    5.32951289, ...,    2.12320917,\n",
       "           39.43      , -121.32      ],\n",
       "        [   2.3886    ,   16.        ,    5.25471698, ...,    2.61698113,\n",
       "           39.37      , -121.24      ]]),\n",
       " 'target': array([4.526, 3.585, 3.521, ..., 0.923, 0.847, 0.894]),\n",
       " 'frame': None,\n",
       " 'target_names': ['MedHouseVal'],\n",
       " 'feature_names': ['MedInc',\n",
       "  'HouseAge',\n",
       "  'AveRooms',\n",
       "  'AveBedrms',\n",
       "  'Population',\n",
       "  'AveOccup',\n",
       "  'Latitude',\n",
       "  'Longitude'],\n",
       " 'DESCR': '.. _california_housing_dataset:\\n\\nCalifornia Housing dataset\\n--------------------------\\n\\n**Data Set Characteristics:**\\n\\n    :Number of Instances: 20640\\n\\n    :Number of Attributes: 8 numeric, predictive attributes and the target\\n\\n    :Attribute Information:\\n        - MedInc        median income in block group\\n        - HouseAge      median house age in block group\\n        - AveRooms      average number of rooms per household\\n        - AveBedrms     average number of bedrooms per household\\n        - Population    block group population\\n        - AveOccup      average number of household members\\n        - Latitude      block group latitude\\n        - Longitude     block group longitude\\n\\n    :Missing Attribute Values: None\\n\\nThis dataset was obtained from the StatLib repository.\\nhttps://www.dcc.fc.up.pt/~ltorgo/Regression/cal_housing.html\\n\\nThe target variable is the median house value for California districts,\\nexpressed in hundreds of thousands of dollars ($100,000).\\n\\nThis dataset was derived from the 1990 U.S. census, using one row per census\\nblock group. A block group is the smallest geographical unit for which the U.S.\\nCensus Bureau publishes sample data (a block group typically has a population\\nof 600 to 3,000 people).\\n\\nA household is a group of people residing within a home. Since the average\\nnumber of rooms and bedrooms in this dataset are provided per household, these\\ncolumns may take surprisingly large values for block groups with few households\\nand many empty houses, such as vacation resorts.\\n\\nIt can be downloaded/loaded using the\\n:func:`sklearn.datasets.fetch_california_housing` function.\\n\\n.. topic:: References\\n\\n    - Pace, R. Kelley and Ronald Barry, Sparse Spatial Autoregressions,\\n      Statistics and Probability Letters, 33 (1997) 291-297\\n'}"
      ]
     },
     "execution_count": 9,
     "metadata": {},
     "output_type": "execute_result"
    }
   ],
   "source": [
    "cali"
   ]
  },
  {
   "cell_type": "code",
   "execution_count": 10,
   "id": "a3f339dd",
   "metadata": {
    "execution": {
     "iopub.execute_input": "2023-10-12T06:42:21.165525Z",
     "iopub.status.busy": "2023-10-12T06:42:21.165098Z",
     "iopub.status.idle": "2023-10-12T06:42:21.170731Z",
     "shell.execute_reply": "2023-10-12T06:42:21.169205Z"
    },
    "papermill": {
     "duration": 0.014117,
     "end_time": "2023-10-12T06:42:21.173147",
     "exception": false,
     "start_time": "2023-10-12T06:42:21.159030",
     "status": "completed"
    },
    "tags": []
   },
   "outputs": [],
   "source": [
    "data=cali.data\n",
    "target=cali.target"
   ]
  },
  {
   "cell_type": "code",
   "execution_count": 11,
   "id": "d189a211",
   "metadata": {
    "execution": {
     "iopub.execute_input": "2023-10-12T06:42:21.184828Z",
     "iopub.status.busy": "2023-10-12T06:42:21.184131Z",
     "iopub.status.idle": "2023-10-12T06:42:21.194686Z",
     "shell.execute_reply": "2023-10-12T06:42:21.193506Z"
    },
    "papermill": {
     "duration": 0.018887,
     "end_time": "2023-10-12T06:42:21.197007",
     "exception": false,
     "start_time": "2023-10-12T06:42:21.178120",
     "status": "completed"
    },
    "tags": []
   },
   "outputs": [],
   "source": [
    "from sklearn.preprocessing import StandardScaler\n",
    "s=StandardScaler()\n",
    "data=s.fit_transform(data)"
   ]
  },
  {
   "cell_type": "code",
   "execution_count": 12,
   "id": "4e83ea14",
   "metadata": {
    "execution": {
     "iopub.execute_input": "2023-10-12T06:42:21.208537Z",
     "iopub.status.busy": "2023-10-12T06:42:21.207714Z",
     "iopub.status.idle": "2023-10-12T06:42:21.216811Z",
     "shell.execute_reply": "2023-10-12T06:42:21.216033Z"
    },
    "papermill": {
     "duration": 0.017497,
     "end_time": "2023-10-12T06:42:21.219176",
     "exception": false,
     "start_time": "2023-10-12T06:42:21.201679",
     "status": "completed"
    },
    "tags": []
   },
   "outputs": [],
   "source": [
    "x_train,x_test,y_train,y_test=train_test_split(data,target,random_state=42)"
   ]
  },
  {
   "cell_type": "code",
   "execution_count": 13,
   "id": "380534e9",
   "metadata": {
    "execution": {
     "iopub.execute_input": "2023-10-12T06:42:21.230610Z",
     "iopub.status.busy": "2023-10-12T06:42:21.229881Z",
     "iopub.status.idle": "2023-10-12T06:42:21.237258Z",
     "shell.execute_reply": "2023-10-12T06:42:21.236067Z"
    },
    "papermill": {
     "duration": 0.015546,
     "end_time": "2023-10-12T06:42:21.239566",
     "exception": false,
     "start_time": "2023-10-12T06:42:21.224020",
     "status": "completed"
    },
    "tags": []
   },
   "outputs": [
    {
     "data": {
      "text/plain": [
       "((15480, 8), (15480,))"
      ]
     },
     "execution_count": 13,
     "metadata": {},
     "output_type": "execute_result"
    }
   ],
   "source": [
    "x_train.shape,y_train.shape"
   ]
  },
  {
   "cell_type": "code",
   "execution_count": 14,
   "id": "5f5f180b",
   "metadata": {
    "execution": {
     "iopub.execute_input": "2023-10-12T06:42:21.251980Z",
     "iopub.status.busy": "2023-10-12T06:42:21.251365Z",
     "iopub.status.idle": "2023-10-12T06:42:21.258277Z",
     "shell.execute_reply": "2023-10-12T06:42:21.257188Z"
    },
    "papermill": {
     "duration": 0.01613,
     "end_time": "2023-10-12T06:42:21.260772",
     "exception": false,
     "start_time": "2023-10-12T06:42:21.244642",
     "status": "completed"
    },
    "tags": []
   },
   "outputs": [
    {
     "data": {
      "text/plain": [
       "((5160, 8), (5160,))"
      ]
     },
     "execution_count": 14,
     "metadata": {},
     "output_type": "execute_result"
    }
   ],
   "source": [
    "x_test.shape,y_test.shape"
   ]
  },
  {
   "cell_type": "code",
   "execution_count": 15,
   "id": "172cd498",
   "metadata": {
    "execution": {
     "iopub.execute_input": "2023-10-12T06:42:21.273021Z",
     "iopub.status.busy": "2023-10-12T06:42:21.272561Z",
     "iopub.status.idle": "2023-10-12T06:42:21.277732Z",
     "shell.execute_reply": "2023-10-12T06:42:21.276418Z"
    },
    "papermill": {
     "duration": 0.013348,
     "end_time": "2023-10-12T06:42:21.279697",
     "exception": false,
     "start_time": "2023-10-12T06:42:21.266349",
     "status": "completed"
    },
    "tags": []
   },
   "outputs": [],
   "source": [
    "y_train_arr=y_train.reshape((15480,1))\n",
    "y_test_arr=y_test.reshape((5160,1))"
   ]
  },
  {
   "cell_type": "markdown",
   "id": "79239204",
   "metadata": {
    "papermill": {
     "duration": 0.004599,
     "end_time": "2023-10-12T06:42:21.289214",
     "exception": false,
     "start_time": "2023-10-12T06:42:21.284615",
     "status": "completed"
    },
    "tags": []
   },
   "source": [
    "# lets trin our model"
   ]
  },
  {
   "cell_type": "code",
   "execution_count": 16,
   "id": "0f5de623",
   "metadata": {
    "execution": {
     "iopub.execute_input": "2023-10-12T06:42:21.301506Z",
     "iopub.status.busy": "2023-10-12T06:42:21.300967Z",
     "iopub.status.idle": "2023-10-12T06:42:21.329875Z",
     "shell.execute_reply": "2023-10-12T06:42:21.328376Z"
    },
    "papermill": {
     "duration": 0.039848,
     "end_time": "2023-10-12T06:42:21.334162",
     "exception": false,
     "start_time": "2023-10-12T06:42:21.294314",
     "status": "completed"
    },
    "tags": []
   },
   "outputs": [],
   "source": [
    "train_info=train(x_train,\n",
    "                y_train_arr,\n",
    "                learning_rate=0.001,\n",
    "                batch_sz=32,\n",
    "                return_loss=True,\n",
    "                return_weights=True,\n",
    "                seed=23)\n",
    "losses=train_info[0]\n",
    "weights=train_info[1]"
   ]
  },
  {
   "cell_type": "code",
   "execution_count": 17,
   "id": "17c9c538",
   "metadata": {
    "execution": {
     "iopub.execute_input": "2023-10-12T06:42:21.365689Z",
     "iopub.status.busy": "2023-10-12T06:42:21.364986Z",
     "iopub.status.idle": "2023-10-12T06:42:21.376066Z",
     "shell.execute_reply": "2023-10-12T06:42:21.374604Z"
    },
    "papermill": {
     "duration": 0.032331,
     "end_time": "2023-10-12T06:42:21.380840",
     "exception": false,
     "start_time": "2023-10-12T06:42:21.348509",
     "status": "completed"
    },
    "tags": []
   },
   "outputs": [
    {
     "data": {
      "text/plain": [
       "array([[2.78010175e+31],\n",
       "       [1.36711388e+31],\n",
       "       [3.84828972e+28],\n",
       "       ...,\n",
       "       [3.79102589e+31],\n",
       "       [4.04686958e+30],\n",
       "       [3.07050970e+31]])"
      ]
     },
     "execution_count": 17,
     "metadata": {},
     "output_type": "execute_result"
    }
   ],
   "source": [
    "losses"
   ]
  },
  {
   "cell_type": "code",
   "execution_count": 18,
   "id": "5e3af1c8",
   "metadata": {
    "execution": {
     "iopub.execute_input": "2023-10-12T06:42:21.411917Z",
     "iopub.status.busy": "2023-10-12T06:42:21.411309Z",
     "iopub.status.idle": "2023-10-12T06:42:21.423590Z",
     "shell.execute_reply": "2023-10-12T06:42:21.421839Z"
    },
    "papermill": {
     "duration": 0.032534,
     "end_time": "2023-10-12T06:42:21.427742",
     "exception": false,
     "start_time": "2023-10-12T06:42:21.395208",
     "status": "completed"
    },
    "tags": []
   },
   "outputs": [
    {
     "data": {
      "text/plain": [
       "{'w': array([[-4.83350747e+15],\n",
       "        [ 2.43191851e+16],\n",
       "        [ 4.03701763e+16],\n",
       "        [ 3.31846345e+16],\n",
       "        [-4.68366351e+16],\n",
       "        [-1.35379343e+16],\n",
       "        [ 1.64291107e+17],\n",
       "        [-1.62198661e+17]]),\n",
       " 'b': array([[1.62616982e+14]])}"
      ]
     },
     "execution_count": 18,
     "metadata": {},
     "output_type": "execute_result"
    }
   ],
   "source": [
    "weights"
   ]
  },
  {
   "cell_type": "code",
   "execution_count": null,
   "id": "7ea2bd48",
   "metadata": {
    "papermill": {
     "duration": 0.008994,
     "end_time": "2023-10-12T06:42:21.451071",
     "exception": false,
     "start_time": "2023-10-12T06:42:21.442077",
     "status": "completed"
    },
    "tags": []
   },
   "outputs": [],
   "source": []
  }
 ],
 "metadata": {
  "kernelspec": {
   "display_name": "Python 3",
   "language": "python",
   "name": "python3"
  },
  "language_info": {
   "codemirror_mode": {
    "name": "ipython",
    "version": 3
   },
   "file_extension": ".py",
   "mimetype": "text/x-python",
   "name": "python",
   "nbconvert_exporter": "python",
   "pygments_lexer": "ipython3",
   "version": "3.10.12"
  },
  "papermill": {
   "default_parameters": {},
   "duration": 7.75703,
   "end_time": "2023-10-12T06:42:22.077819",
   "environment_variables": {},
   "exception": null,
   "input_path": "__notebook__.ipynb",
   "output_path": "__notebook__.ipynb",
   "parameters": {},
   "start_time": "2023-10-12T06:42:14.320789",
   "version": "2.4.0"
  }
 },
 "nbformat": 4,
 "nbformat_minor": 5
}
